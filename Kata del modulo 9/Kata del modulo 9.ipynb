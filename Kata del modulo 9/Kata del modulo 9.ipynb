{
 "cells": [
  {
   "cell_type": "markdown",
   "metadata": {},
   "source": [
    "#### Ejercicio 1: Trabajar con argumentos en funciones"
   ]
  },
  {
   "cell_type": "code",
   "execution_count": 27,
   "metadata": {},
   "outputs": [],
   "source": [
    "def rep(tanque1, tanque2, tanque3):\n",
    "    total = (tanque1 + tanque2 + tanque3) / 3\n",
    "    return f\"\"\"informe :\n",
    "    Promedio total de los tanques: {total}%\n",
    "    tanque 1: {tanque1}%\n",
    "    tanque 2: {tanque2}%\n",
    "    tanque 3: {tanque3}% \n",
    "    \"\"\""
   ]
  },
  {
   "cell_type": "code",
   "execution_count": 28,
   "metadata": {},
   "outputs": [
    {
     "name": "stdout",
     "output_type": "stream",
     "text": [
      "informe :\n",
      "    Promedio total de los tanques: 30.666666666666668%\n",
      "    tanque 1: 30%\n",
      "    tanque 2: 50%\n",
      "    tanque 3: 12% \n",
      "    \n"
     ]
    }
   ],
   "source": [
    "print(rep(30, 50, 12))"
   ]
  },
  {
   "cell_type": "code",
   "execution_count": 29,
   "metadata": {},
   "outputs": [],
   "source": [
    "def prom(var):\n",
    "    total = sum(var)\n",
    "    totas = len(var)\n",
    "    return total / totas"
   ]
  },
  {
   "cell_type": "code",
   "execution_count": 30,
   "metadata": {},
   "outputs": [
    {
     "name": "stdout",
     "output_type": "stream",
     "text": [
      "informe:\n",
      "    Promedio total de los tanques: 78.0%\n",
      "    tanque 1: 88%\n",
      "    tanque 2: 76%\n",
      "    tanque 3: 70% \n",
      " \n",
      "    \n"
     ]
    }
   ],
   "source": [
    "def rep(tanque1, tanque2, tanque3):\n",
    "    return f\"\"\"informe:\n",
    "    Promedio total de los tanques: {prom([tanque1, tanque2, tanque3])}%\n",
    "    tanque 1: {tanque1}%\n",
    "    tanque 2: {tanque2}%\n",
    "    tanque 3: {tanque3}% \n",
    " \n",
    "    \"\"\"\n",
    "print(rep(88, 76, 70))"
   ]
  },
  {
   "cell_type": "markdown",
   "metadata": {},
   "source": [
    "#### Ejercicio 2: Trabajo con argumentos de palabra clave"
   ]
  },
  {
   "cell_type": "code",
   "execution_count": 34,
   "metadata": {},
   "outputs": [
    {
     "name": "stdout",
     "output_type": "stream",
     "text": [
      "\n",
      "    lanzamiento a la estacion espacial\n",
      "    tiempo: 75 minutes\n",
      "    combustible: 177033 gallons\n",
      "    \n"
     ]
    }
   ],
   "source": [
    "def rep(pre, flight, dest, tanque1, tanque2):\n",
    "    return f\"\"\"\n",
    "    lanzamiento a la {dest}\n",
    "    tiempo: {pre + flight} minutos\n",
    "    combustible: {tanque1 + tanque2} gallones\n",
    "    \"\"\"\n",
    "\n",
    "print(rep(23, 52, \"estacion espacial\", 86521, 90512))"
   ]
  },
  {
   "cell_type": "code",
   "execution_count": 35,
   "metadata": {},
   "outputs": [
    {
     "name": "stdout",
     "output_type": "stream",
     "text": [
      "\n",
      "    Mission to estacion espacial\n",
      "    Total travel time: 99 minutes\n",
      "    Total fuel left: 769184\n",
      "    \n"
     ]
    }
   ],
   "source": [
    "\n",
    "def rep(dest, *minutes, **fuel_reservoirs):\n",
    "    return f\"\"\"\n",
    "    Mission to {dest}\n",
    "    Total travel time: {sum(minutes)} minutes\n",
    "    Total fuel left: {sum(fuel_reservoirs.values())}\n",
    "    \"\"\"\n",
    "\n",
    "print(rep(\"estacion espacial\", 44, 12, 43, var1=123541, var23=645643))"
   ]
  },
  {
   "cell_type": "code",
   "execution_count": 36,
   "metadata": {},
   "outputs": [
    {
     "name": "stdout",
     "output_type": "stream",
     "text": [
      "\n",
      "    Mission to estacion espacial\n",
      "    Total travel time: 99 minutos\n",
      "    Total fuel left: 769184\n",
      "    var1 tanque --> 123541 gallones left\n",
      "var23 tanque --> 645643 gallones left\n",
      "\n"
     ]
    }
   ],
   "source": [
    "def rep(destination, *minutes, **fuel_reservoirs):\n",
    "    report = f\"\"\"\n",
    "    Mission to {destination}\n",
    "    Total travel time: {sum(minutes)} minutos\n",
    "    Total fuel left: {sum(fuel_reservoirs.values())}\n",
    "    \"\"\"\n",
    "    for tank_name, gallons in fuel_reservoirs.items():\n",
    "        report += f\"{tank_name} tanque --> {gallons} gallones left\\n\"\n",
    "    return report\n",
    "\n",
    "print(rep(\"estacion espacial\", 44, 12, 43, var1=123541, var23=645643))"
   ]
  }
 ],
 "metadata": {
  "interpreter": {
   "hash": "b44a86fa837fac41e7a54b5f90a7f32364ebfac7dc4871ffb93a32d75a0c0a8c"
  },
  "kernelspec": {
   "display_name": "Python 3.10.2 64-bit",
   "language": "python",
   "name": "python3"
  },
  "language_info": {
   "codemirror_mode": {
    "name": "ipython",
    "version": 3
   },
   "file_extension": ".py",
   "mimetype": "text/x-python",
   "name": "python",
   "nbconvert_exporter": "python",
   "pygments_lexer": "ipython3",
   "version": "3.10.2"
  },
  "orig_nbformat": 4
 },
 "nbformat": 4,
 "nbformat_minor": 2
}
